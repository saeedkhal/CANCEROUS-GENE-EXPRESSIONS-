{
 "cells": [
  {
   "cell_type": "code",
   "execution_count": 57,
   "metadata": {},
   "outputs": [
    {
     "name": "stdout",
     "output_type": "stream",
     "text": [
      "17338\n"
     ]
    }
   ],
   "source": [
    "f1 = open(r'C:\\Users\\saeed khaled\\Downloads/diseas.txt', \"r\")\n",
    "data_health_line = []\n",
    "for line1 in f1:\n",
    "    stripped_line1 = line1.strip()\n",
    "    line_list1 = stripped_line1.split()\n",
    "    data_health_line.append(line_list1)\n",
    "f1.close()\n",
    "b=[]\n",
    "for i in range(len(data_health_line)):\n",
    "    \n",
    "    x=0\n",
    "    for j in data_health_line[i][2:]:\n",
    "        if (j==str(0.0)):\n",
    "            x=x+1\n",
    "    if x>25:\n",
    "        b.append(i)\n",
    "\n",
    "print(len(data_health_line))"
   ]
  },
  {
   "cell_type": "code",
   "execution_count": null,
   "metadata": {},
   "outputs": [],
   "source": []
  },
  {
   "cell_type": "code",
   "execution_count": null,
   "metadata": {},
   "outputs": [],
   "source": []
  }
 ],
 "metadata": {
  "kernelspec": {
   "display_name": "Python 3",
   "language": "python",
   "name": "python3"
  },
  "language_info": {
   "codemirror_mode": {
    "name": "ipython",
    "version": 3
   },
   "file_extension": ".py",
   "mimetype": "text/x-python",
   "name": "python",
   "nbconvert_exporter": "python",
   "pygments_lexer": "ipython3",
   "version": "3.8.5"
  }
 },
 "nbformat": 4,
 "nbformat_minor": 4
}
