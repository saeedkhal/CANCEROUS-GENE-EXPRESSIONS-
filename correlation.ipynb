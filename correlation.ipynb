{
 "cells": [
  {
   "cell_type": "code",
   "execution_count": 15,
   "metadata": {},
   "outputs": [
    {
     "name": "stdout",
     "output_type": "stream",
     "text": [
      "-0.4528072785247083\n",
      "12974\n",
      "0.9690441442970703\n",
      "10829\n",
      "Hugo_Symbol       AREGB\n",
      "Entrez_Gene_Id      374\n",
      "Name: 10829, dtype: object\n",
      "Hugo_Symbol       FAM222B\n",
      "Entrez_Gene_Id      55731\n",
      "Name: 12974, dtype: object\n"
     ]
    },
    {
     "data": {
      "image/png": "[encoded data removed]",
      "text/plain": [
       "<Figure size 432x288 with 1 Axes>"
      ]
     },
     "metadata": {
      "needs_background": "light"
     },
     "output_type": "display_data"
    }
   ],
   "source": [
    "import pandas as pd\n",
    "from scipy.stats import pearsonr\n",
    "from matplotlib import pyplot\n",
    "heal = pd.read_csv(r'C:\\Users\\saeed khaled\\Downloads/health.txt', sep='\\t')\n",
    "des = pd.read_csv(r'C:\\Users\\saeed khaled\\Downloads/diseas.txt', sep='\\t')\n",
    "\n",
    "heighest = []\n",
    "for n  in range(len(heal)):\n",
    "    G_H = heal.iloc[n, 2:]\n",
    "    G_D = des.iloc[n, 2:]\n",
    "    r,_ = pearsonr(G_H, G_D)\n",
    "    heighest.append(r) \n",
    "max_value = max(heighest)\n",
    "max_index = heighest. index(max_value)\n",
    "min_value = min(heighest)\n",
    "min_index = heighest.index(min_value)\n",
    "print(min_value)\n",
    "print(min_index)\n",
    "print(max_value)\n",
    "print(max_index)\n",
    "print(heal.iloc[max_index,0:2])\n",
    "print(heal.iloc[min_index,0:2])\n",
    "pyplot.scatter(heal.iloc[max_index, 2:], des.iloc[max_index, 2:])\n",
    "pyplot.show()\n"
   ]
  },
  {
   "cell_type": "code",
   "execution_count": null,
   "metadata": {},
   "outputs": [],
   "source": []
  }
 ],
 "metadata": {
  "kernelspec": {
   "display_name": "Python 3",
   "language": "python",
   "name": "python3"
  },
  "language_info": {
   "codemirror_mode": {
    "name": "ipython",
    "version": 3
   },
   "file_extension": ".py",
   "mimetype": "text/x-python",
   "name": "python",
   "nbconvert_exporter": "python",
   "pygments_lexer": "ipython3",
   "version": "3.8.5"
  }
 },
 "nbformat": 4,
 "nbformat_minor": 4
}
